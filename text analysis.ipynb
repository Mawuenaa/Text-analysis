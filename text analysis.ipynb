{
 "cells": [
  {
   "cell_type": "code",
   "execution_count": 2,
   "id": "8d544c78",
   "metadata": {},
   "outputs": [],
   "source": [
    "# Import the necessary library\n",
    "import re"
   ]
  },
  {
   "cell_type": "markdown",
   "id": "9b417b70",
   "metadata": {},
   "source": [
    "## Scenario 1: Financial Review Article Analysis "
   ]
  },
  {
   "cell_type": "code",
   "execution_count": 6,
   "id": "1820affb",
   "metadata": {},
   "outputs": [],
   "source": [
    "scenario_1 = \"\"\"The quarterly financial review of George’s Corporation presented insights into its performance\n",
    "across regions. The North American division reported revenue growth of 12%, with net profits of\n",
    "$4.5 million, despite a 5% increase in operational costs. Europe, on the other hand, contributed\n",
    "€3.2 million in profits but faced a decline in year-over-year revenue by 8%. The Asia-Pacific\n",
    "region excelled, with a remarkable 20% growth in revenue, accompanied by ¥2 billion in\n",
    "operational expenses. The CFO emphasized that the company's strategic investments in green\n",
    "technology totaling $1.2 million globally would ensure sustained growth. Future projections\n",
    "estimate a 10% increase in revenue and net profits to rise by $5 million over the next fiscal year\"\"\""
   ]
  },
  {
   "cell_type": "code",
   "execution_count": 7,
   "id": "54cfb911",
   "metadata": {},
   "outputs": [
    {
     "data": {
      "text/plain": [
       "\"The quarterly financial review of George’s Corporation presented insights into its performance\\nacross regions. The North American division reported revenue growth of 12%, with net profits of\\n$4.5 million, despite a 5% increase in operational costs. Europe, on the other hand, contributed\\n€3.2 million in profits but faced a decline in year-over-year revenue by 8%. The Asia-Pacific\\nregion excelled, with a remarkable 20% growth in revenue, accompanied by ¥2 billion in\\noperational expenses. The CFO emphasized that the company's strategic investments in green\\ntechnology totaling $1.2 million globally would ensure sustained growth. Future projections\\nestimate a 10% increase in revenue and net profits to rise by $5 million over the next fiscal year\""
      ]
     },
     "execution_count": 7,
     "metadata": {},
     "output_type": "execute_result"
    }
   ],
   "source": [
    "# Display the text to see how it it inputted in python\n",
    "scenario_1"
   ]
  },
  {
   "cell_type": "markdown",
   "id": "3da0ba9a",
   "metadata": {},
   "source": [
    "### 1. Monetary Analysis"
   ]
  },
  {
   "cell_type": "code",
   "execution_count": 8,
   "id": "9a7ae1ca",
   "metadata": {},
   "outputs": [],
   "source": [
    "# Define a pattern that matches currency amounts followed by either \"million\" or \"billion.\"\n",
    "pattern = re.compile(\"([$€¥]\\d+(\\.\\d+)? (million|billion))\")"
   ]
  },
  {
   "cell_type": "code",
   "execution_count": 9,
   "id": "520a3843",
   "metadata": {},
   "outputs": [
    {
     "data": {
      "text/plain": [
       "[('$4.5 million', '.5', 'million'),\n",
       " ('€3.2 million', '.2', 'million'),\n",
       " ('¥2 billion', '', 'billion'),\n",
       " ('$1.2 million', '.2', 'million'),\n",
       " ('$5 million', '', 'million')]"
      ]
     },
     "execution_count": 9,
     "metadata": {},
     "output_type": "execute_result"
    }
   ],
   "source": [
    "\"\"\"Searches for all occurrences of the defined currency pattern in the string\n",
    "'scenario_1' and stores the matches in the variable 'match'.\"\"\" \n",
    "\n",
    "match = pattern.findall(scenario_1)\n",
    "match"
   ]
  },
  {
   "cell_type": "code",
   "execution_count": 10,
   "id": "dc847786",
   "metadata": {},
   "outputs": [
    {
     "data": {
      "text/plain": [
       "['$4.5 million', '€3.2 million', '¥2 billion', '$1.2 million', '$5 million']"
      ]
     },
     "execution_count": 10,
     "metadata": {},
     "output_type": "execute_result"
    }
   ],
   "source": [
    "# Creates a list of the first element of each match found in 'match',extracting the relevant monetary amounts.\"\"\"  \n",
    "\n",
    "monetary_amounts = [match[0] for match in match]\n",
    "monetary_amounts"
   ]
  },
  {
   "cell_type": "code",
   "execution_count": 17,
   "id": "846c2a9f",
   "metadata": {},
   "outputs": [
    {
     "name": "stdout",
     "output_type": "stream",
     "text": [
      "Monetary Amounts Categorized:\n"
     ]
    },
    {
     "data": {
      "text/plain": [
       "{'revenue': [],\n",
       " 'profits': ['$4.5 million', '€3.2 million', '$5 million'],\n",
       " 'costs': ['¥2 billion'],\n",
       " 'investments': ['$1.2 million']}"
      ]
     },
     "execution_count": 17,
     "metadata": {},
     "output_type": "execute_result"
    }
   ],
   "source": [
    "# Categorization\n",
    "categories = {\n",
    "    \"revenue\": [],\n",
    "    \"profits\": [],\n",
    "    \"costs\": [],\n",
    "    \"investments\": [],\n",
    "}\n",
    "\n",
    "for match in monetary_amounts:\n",
    "    # Check for \"revenue\" before or after the match\n",
    "    if \"revenue\" in scenario_1.split(match)[0][-12:]:\n",
    "        categories[\"revenue\"].append(match)\n",
    "    # Check for \"profits\" before or after the match\n",
    "    elif \"profits\" in scenario_1.split(match)[0][-50:] or \"profits\" in scenario_1.split(match)[1][:12]:\n",
    "        categories[\"profits\"].append(match)\n",
    "    # Check for \"costs\" after the match (with a broader search range)\n",
    "    elif \"expenses\" in scenario_1.split(match)[1][:50]:\n",
    "        categories[\"costs\"].append(match)\n",
    "    # Check for \"investments\" before the match\n",
    "    elif \"investments\" in scenario_1.split(match)[0][-60:]:\n",
    "        categories[\"investments\"].append(match)\n",
    "\n",
    "# Output Results\n",
    "print(\"Monetary Amounts Categorized:\")\n",
    "categories"
   ]
  },
  {
   "cell_type": "markdown",
   "id": "5809684a",
   "metadata": {},
   "source": [
    "### 2. Trend Extraction"
   ]
  },
  {
   "cell_type": "code",
   "execution_count": 8,
   "id": "8ebbcb37",
   "metadata": {},
   "outputs": [],
   "source": [
    "pattern_2 = re.compile(\"(\\d+%)\")"
   ]
  },
  {
   "cell_type": "code",
   "execution_count": 9,
   "id": "ef84dece",
   "metadata": {},
   "outputs": [
    {
     "data": {
      "text/plain": [
       "['12%', '5%', '8%', '20%', '10%']"
      ]
     },
     "execution_count": 9,
     "metadata": {},
     "output_type": "execute_result"
    }
   ],
   "source": [
    "match_2 = pattern_2.findall(scenario_1)\n",
    "match_2"
   ]
  },
  {
   "cell_type": "code",
   "execution_count": 10,
   "id": "1423f4cb",
   "metadata": {},
   "outputs": [
    {
     "name": "stdout",
     "output_type": "stream",
     "text": [
      "\n",
      "Percentage Changes Categorized:\n",
      "{'growth': ['12%', '5%', '20%'], 'decline': ['8%'], 'projections': ['10%']}\n"
     ]
    }
   ],
   "source": [
    "# Categorization\n",
    "percentage_categories = {\n",
    "    \"growth\": [],\n",
    "    \"decline\": [],\n",
    "    \"projections\": [],\n",
    "}\n",
    "\n",
    "\"\"\" Iterates through each match in 'match_2', checking specific keywords in\n",
    "    the surrounding text of 'scenario_1' to categorize the matches into 'growth', 'decline', or 'projections'.\n",
    "    \"\"\"\n",
    "for match in match_2:\n",
    "    if \"growth\" in scenario_1.split(match)[0][-20:] or \"growth\"  in scenario_1.split(match)[1][:10]:\n",
    "        percentage_categories[\"growth\"].append(match)\n",
    "    elif \"decline\" in scenario_1.split(match)[0][-100:]:\n",
    "        percentage_categories[\"decline\"].append(match)\n",
    "    elif \"projections\" in scenario_1.split(match)[0][-40:]:\n",
    "        percentage_categories[\"projections\"].append(match)\n",
    "        \n",
    "print(\"\\nPercentage Changes Categorized:\")\n",
    "print(percentage_categories)"
   ]
  },
  {
   "cell_type": "markdown",
   "id": "4c77c0fc",
   "metadata": {},
   "source": [
    "### 3. Prediction Redaction"
   ]
  },
  {
   "cell_type": "code",
   "execution_count": 11,
   "id": "81db4dea",
   "metadata": {},
   "outputs": [],
   "source": [
    "'''This line replaces the phrase \"Future projections\\nestimate\" in 'scenario_1' with\n",
    "   \"[Projections Redacted]\" and stores the result in 'new_scenario'.'''\n",
    "\n",
    "new_scenario = re.sub(\"Future projections\\nestimate\", \"[Projections Redacted]\", scenario_1)"
   ]
  },
  {
   "cell_type": "code",
   "execution_count": 12,
   "id": "ef2a3bab",
   "metadata": {},
   "outputs": [
    {
     "name": "stdout",
     "output_type": "stream",
     "text": [
      "The quarterly financial review of George’s Corporation presented insights into its performance\n",
      "across regions. The North American division reported revenue growth of 12%, with net profits of\n",
      "$4.5 million, despite a 5% increase in operational costs. Europe, on the other hand, contributed\n",
      "€3.2 million in profits but faced a decline in year-over-year revenue by 8%. The Asia-Pacific\n",
      "region excelled, with a remarkable 20% growth in revenue, accompanied by ¥2 billion in\n",
      "operational expenses. The CFO emphasized that the company's strategic investments in green\n",
      "technology totaling $1.2 million globally would ensure sustained growth. [Projections Redacted] a 10% increase in revenue and net profits to rise by $5 million over the next fiscal year\n"
     ]
    }
   ],
   "source": [
    "print(new_scenario)"
   ]
  },
  {
   "cell_type": "markdown",
   "id": "fa567011",
   "metadata": {},
   "source": [
    " "
   ]
  },
  {
   "cell_type": "markdown",
   "id": "4c18c009",
   "metadata": {},
   "source": [
    "## Scenario 2: Academic Research Abstract "
   ]
  },
  {
   "cell_type": "code",
   "execution_count": 1,
   "id": "790e404c",
   "metadata": {},
   "outputs": [],
   "source": [
    "scenario_2 = \"\"\"Banking institutions in developing economies are undergoing a massive transformation. Studies\n",
    "by Ahmed & Kofi (2020), Smith et al. (2019), and Brown (2022) emphasize the role of digital\n",
    "banking in enhancing customer satisfaction. These findings are consistent with Johnson's (2018)\n",
    "exploration of AI-driven banking solutions. Despite these advancements, reports from Baker and\n",
    "Thompson (2021) highlight persistent challenges in cybersecurity. Additionally, the latest research\n",
    "(Harper et al., 2023) suggests that over 60% of banks are now investing in blockchain technology\n",
    "to address these issues.\"\"\""
   ]
  },
  {
   "cell_type": "markdown",
   "id": "00b46c88",
   "metadata": {},
   "source": [
    "### 1. Extracting Citations"
   ]
  },
  {
   "cell_type": "code",
   "execution_count": 3,
   "id": "8da95c42",
   "metadata": {},
   "outputs": [
    {
     "data": {
      "text/plain": [
       "['Ahmed & Kofi (2020)',\n",
       " 'Smith et al. (2019)',\n",
       " 'Brown (2022)',\n",
       " \"Johnson's (2018)\",\n",
       " 'Thompson (2021)',\n",
       " '(Harper et al., 2023)']"
      ]
     },
     "execution_count": 3,
     "metadata": {},
     "output_type": "execute_result"
    }
   ],
   "source": [
    "pattern_2 = re.compile(r\"[A-Z][a-z]+(?: & [A-Z][a-z]+)?(?: et al\\.)?(?:'s)? \\(\\d{4}\\)|\\(Harper et al\\., \\d{4}\\)\")\n",
    "match_2 = pattern_2.findall(scenario_2)\n",
    "match_2"
   ]
  },
  {
   "cell_type": "code",
   "execution_count": 5,
   "id": "d75c8a87",
   "metadata": {},
   "outputs": [
    {
     "name": "stdout",
     "output_type": "stream",
     "text": [
      "Single-Author References: ['Brown (2022)', \"Johnson's (2018)\", 'Thompson (2021)']\n",
      "Multi-Author References: ['Ahmed & Kofi (2020)', 'Smith et al. (2019)', '(Harper et al., 2023)']\n"
     ]
    }
   ],
   "source": [
    "# Separate into single-author and multi-author references\n",
    "single_author = []\n",
    "multi_author = []\n",
    "\n",
    "for match in match_2:\n",
    "    # Check if the match contains conjunctions or \"et al.\" to determine authorship\n",
    "    if \" & \" in match or \"et al.\" in match or \" and \" in match_2:\n",
    "        multi_author.append(match)\n",
    "    else:\n",
    "        single_author.append(match)\n",
    "\n",
    "# Print categorized references\n",
    "print(\"Single-Author References:\", single_author)\n",
    "print(\"Multi-Author References:\", multi_author)"
   ]
  },
  {
   "cell_type": "markdown",
   "id": "60962184",
   "metadata": {},
   "source": [
    "### 2. Analyzing Trends"
   ]
  },
  {
   "cell_type": "code",
   "execution_count": 16,
   "id": "7f998aee",
   "metadata": {},
   "outputs": [
    {
     "name": "stdout",
     "output_type": "stream",
     "text": [
      "Technological Terms: ['digital', 'AI-driven banking solutions', 'cybersecurity', 'blockchain technology']\n"
     ]
    }
   ],
   "source": [
    "# Regex pattern for technological terms\n",
    "tech_pattern = r\"\\b(?:digital|AI-driven|blockchain|cybersecurity)\\b(?: [a-z]+)?(?: [a-z]+)?(?: [a-z]+)?\"\n",
    "\n",
    "# Find all technological terms\n",
    "technological_terms = re.findall(tech_pattern, scenario_2, re.IGNORECASE)\n",
    "\n",
    "# Clean and print results\n",
    "technological_terms = [term.strip() for term in technological_terms]\n",
    "print(\"Technological Terms:\", technological_terms)"
   ]
  },
  {
   "cell_type": "markdown",
   "id": "c429150e",
   "metadata": {},
   "source": [
    "### 3. Year Analysis"
   ]
  },
  {
   "cell_type": "code",
   "execution_count": 17,
   "id": "03da8c83",
   "metadata": {},
   "outputs": [
    {
     "data": {
      "text/plain": [
       "['2020', '2019', '2022', '2018', '2021', '2023']"
      ]
     },
     "execution_count": 17,
     "metadata": {},
     "output_type": "execute_result"
    }
   ],
   "source": [
    "pattern_3 = re.compile(r\"(\\d{4})\")\n",
    "years_match = pattern_3.findall(scenario_2)\n",
    "years_match"
   ]
  },
  {
   "cell_type": "code",
   "execution_count": 18,
   "id": "1618bf6f",
   "metadata": {},
   "outputs": [
    {
     "name": "stdout",
     "output_type": "stream",
     "text": [
      "6\n"
     ]
    }
   ],
   "source": [
    "print(len(years_match))"
   ]
  },
  {
   "cell_type": "code",
   "execution_count": 19,
   "id": "2214f457",
   "metadata": {},
   "outputs": [],
   "source": [
    "sub_years = re.sub(pattern_3, \"[Year Redacted]\", scenario_2)"
   ]
  },
  {
   "cell_type": "code",
   "execution_count": 20,
   "id": "4dd5a7b5",
   "metadata": {},
   "outputs": [
    {
     "data": {
      "text/plain": [
       "\"Banking institutions in developing economies are undergoing a massive transformation. Studies\\nby Ahmed & Kofi ([Year Redacted]), Smith et al. ([Year Redacted]), and Brown ([Year Redacted]) emphasize the role of digital\\nbanking in enhancing customer satisfaction. These findings are consistent with Johnson's ([Year Redacted])\\nexploration of AI-driven banking solutions. Despite these advancements, reports from Baker and\\nThompson ([Year Redacted]) highlight persistent challenges in cybersecurity. Additionally, the latest research\\n(Harper et al., [Year Redacted]) suggests that over 60% of banks are now investing in blockchain technology\\nto address these issues.\""
      ]
     },
     "execution_count": 20,
     "metadata": {},
     "output_type": "execute_result"
    }
   ],
   "source": [
    "sub_years"
   ]
  },
  {
   "cell_type": "markdown",
   "id": "bc48b07b",
   "metadata": {},
   "source": [
    " "
   ]
  },
  {
   "cell_type": "markdown",
   "id": "86160b1e",
   "metadata": {},
   "source": [
    "## Scenario 3: Transaction Audit Report "
   ]
  },
  {
   "cell_type": "code",
   "execution_count": 21,
   "id": "aa49451d",
   "metadata": {},
   "outputs": [],
   "source": [
    "scenario_3 = \"\"\"*The finance team at ABC Inc. released a report detailing recent transactions: \n",
    "T20001 - Completed \n",
    "T20002 - Pending \n",
    "T20003 - Failed \n",
    "T20004 - Completed \n",
    "Additionally, the report included refund transactions such as R2001 - Approved and P3003 - \n",
    "Pending. The management highlighted that failed transactions (e.g., T20003) require immediate \n",
    "review. They also noted a spike in refunds, with over 15% of total transactions categorized as \n",
    "\"Refunds.\"\n",
    "\"\"\""
   ]
  },
  {
   "cell_type": "markdown",
   "id": "9db990b7",
   "metadata": {},
   "source": [
    "### 1. Transaction Categorization"
   ]
  },
  {
   "cell_type": "code",
   "execution_count": 22,
   "id": "471af987",
   "metadata": {},
   "outputs": [
    {
     "data": {
      "text/plain": [
       "['T20001', 'T20002', 'T20003', 'T20004', 'R2001', 'P3003', 'T20003']"
      ]
     },
     "execution_count": 22,
     "metadata": {},
     "output_type": "execute_result"
    }
   ],
   "source": [
    "report_match = re.findall(\"[TRP]\\d+\", scenario_3)\n",
    "report_match"
   ]
  },
  {
   "cell_type": "code",
   "execution_count": 23,
   "id": "e65e7f0c",
   "metadata": {},
   "outputs": [
    {
     "name": "stdout",
     "output_type": "stream",
     "text": [
      "\n",
      "Categorized:\n",
      "{'Completed': ['T20001', 'T20004'], 'Pending': ['T20002', 'P3003'], 'Failed': ['T20003', 'T20003'], 'Other': ['R2001']}\n"
     ]
    }
   ],
   "source": [
    "# Initialize classifications\n",
    "categories_2 = {\n",
    "    \"Completed\": [],\n",
    "    \"Pending\": [],\n",
    "    \"Failed\": [],\n",
    "    \"Other\": []\n",
    "}\n",
    "\n",
    "\n",
    "for match in report_match:\n",
    "    if \"Completed\" in scenario_3.split(match)[1][:15]: \n",
    "        categories_2[\"Completed\"].append(match)\n",
    "    elif \"Pending\" in scenario_3.split(match)[1][:15]:\n",
    "        categories_2[\"Pending\"].append(match)\n",
    "    elif \"Failed\" in scenario_3.split(match)[1][:15]:\n",
    "        categories_2[\"Failed\"].append(match)\n",
    "    elif \"Approved\" in scenario_3.split(match)[1][:15]:\n",
    "        categories_2[\"Other\"].append(match)\n",
    "\n",
    "\n",
    "print(\"\\nCategorized:\")\n",
    "print(categories_2)"
   ]
  },
  {
   "cell_type": "code",
   "execution_count": 24,
   "id": "11a83bbf",
   "metadata": {},
   "outputs": [],
   "source": [
    "# calculates the number of items in each category ('Completed', 'Pending', 'Failed', and 'Other') from 'categories_2' and stores the counts in respective variables.\n",
    "number_of_completed = len(categories_2[\"Completed\"])\n",
    "number_of_pending = len(categories_2[\"Pending\"])\n",
    "number_of_failed = len(set(categories_2[\"Failed\"]))\n",
    "number_of_other = len(categories_2[\"Other\"])"
   ]
  },
  {
   "cell_type": "code",
   "execution_count": 25,
   "id": "a42764ea",
   "metadata": {},
   "outputs": [
    {
     "name": "stdout",
     "output_type": "stream",
     "text": [
      "The number of transactions that fall under 'Completed' is 2.\n",
      "The number of transactions that fall under 'Pending' is 2.\n",
      "The number of transactions that fall under 'Failed' is 1.\n",
      "The number of transactions that fall under 'Other' is 1.\n"
     ]
    }
   ],
   "source": [
    "# Print the number of items in each category\n",
    "\n",
    "print(f\"The number of transactions that fall under 'Completed' is {number_of_completed}.\")\n",
    "print(f\"The number of transactions that fall under 'Pending' is {number_of_pending}.\")\n",
    "print(f\"The number of transactions that fall under 'Failed' is {number_of_failed}.\")\n",
    "print(f\"The number of transactions that fall under 'Other' is {number_of_other}.\")"
   ]
  },
  {
   "cell_type": "markdown",
   "id": "a6f5d79b",
   "metadata": {},
   "source": [
    "### 2. Redaction"
   ]
  },
  {
   "cell_type": "code",
   "execution_count": 26,
   "id": "efe13d0b",
   "metadata": {},
   "outputs": [],
   "source": [
    "redaction = re.sub(\"Failed\", \" [Under Review]\", scenario_3, flags=re.I)"
   ]
  },
  {
   "cell_type": "code",
   "execution_count": 27,
   "id": "e77b1b18",
   "metadata": {},
   "outputs": [
    {
     "data": {
      "text/plain": [
       "'*The finance team at ABC Inc. released a report detailing recent transactions: \\nT20001 - Completed \\nT20002 - Pending \\nT20003 -  [Under Review] \\nT20004 - Completed \\nAdditionally, the report included refund transactions such as R2001 - Approved and P3003 - \\nPending. The management highlighted that  [Under Review] transactions (e.g., T20003) require immediate \\nreview. They also noted a spike in refunds, with over 15% of total transactions categorized as \\n\"Refunds.\"\\n'"
      ]
     },
     "execution_count": 27,
     "metadata": {},
     "output_type": "execute_result"
    }
   ],
   "source": [
    "redaction"
   ]
  },
  {
   "cell_type": "markdown",
   "id": "c822fe6b",
   "metadata": {},
   "source": [
    "### 3. Refund Analysis"
   ]
  },
  {
   "cell_type": "code",
   "execution_count": 28,
   "id": "5b34382a",
   "metadata": {},
   "outputs": [],
   "source": [
    "refund = re.findall(r\"([RP]\\d+)\", scenario_3)"
   ]
  },
  {
   "cell_type": "code",
   "execution_count": 29,
   "id": "03339a51",
   "metadata": {},
   "outputs": [
    {
     "data": {
      "text/plain": [
       "['R2001', 'P3003']"
      ]
     },
     "execution_count": 29,
     "metadata": {},
     "output_type": "execute_result"
    }
   ],
   "source": [
    "refund"
   ]
  },
  {
   "cell_type": "code",
   "execution_count": 30,
   "id": "e8a5e2a0",
   "metadata": {},
   "outputs": [
    {
     "name": "stdout",
     "output_type": "stream",
     "text": [
      "Total number of refunds: 2\n"
     ]
    }
   ],
   "source": [
    "print(\"Total number of refunds:\", len(refund))"
   ]
  },
  {
   "cell_type": "markdown",
   "id": "463ba818",
   "metadata": {},
   "source": [
    " "
   ]
  },
  {
   "cell_type": "markdown",
   "id": "43bb1dba",
   "metadata": {},
   "source": [
    "## Scenario 4: Customer Communication Analysis "
   ]
  },
  {
   "cell_type": "code",
   "execution_count": 31,
   "id": "f728044f",
   "metadata": {},
   "outputs": [],
   "source": [
    "scenario_4 = \"\"\"*The customer support team at Global Banking Inc. compiled a list of queries received via email \n",
    "and web submissions: \n",
    "• Email: helpdesk@globalbanking.com \n",
    "• Email: complaints@globalbanking.com \n",
    "• Website: www.globalbanking.com/feedback \n",
    "• Website: https://secure.globalbanking.com/contact \n",
    "To improve support quality, management wants to analyze the communication channels and redact \n",
    "sensitive information before sharing the data with external partners. *\"\"\""
   ]
  },
  {
   "cell_type": "markdown",
   "id": "28872949",
   "metadata": {},
   "source": [
    "### 1. Extraction Tasks"
   ]
  },
  {
   "cell_type": "code",
   "execution_count": 32,
   "id": "3240a0b1",
   "metadata": {},
   "outputs": [],
   "source": [
    "pattern_4 = re.compile(\"([a-zA-Z0-9._%+-]+@[a-zA-Z0-9.-]+\\.[a-zA-Z]{2,})\")"
   ]
  },
  {
   "cell_type": "code",
   "execution_count": 33,
   "id": "f21cd002",
   "metadata": {},
   "outputs": [
    {
     "data": {
      "text/plain": [
       "['helpdesk@globalbanking.com', 'complaints@globalbanking.com']"
      ]
     },
     "execution_count": 33,
     "metadata": {},
     "output_type": "execute_result"
    }
   ],
   "source": [
    "email_address_match = pattern_4.findall(scenario_4)\n",
    "email_address_match"
   ]
  },
  {
   "cell_type": "code",
   "execution_count": 34,
   "id": "78e91497",
   "metadata": {},
   "outputs": [],
   "source": [
    "pattern_5 = re.compile(\"(https?://[^\\s]+|www\\.[^\\s]+)\")"
   ]
  },
  {
   "cell_type": "code",
   "execution_count": 35,
   "id": "afd7c105",
   "metadata": {},
   "outputs": [
    {
     "data": {
      "text/plain": [
       "['www.globalbanking.com/feedback', 'https://secure.globalbanking.com/contact']"
      ]
     },
     "execution_count": 35,
     "metadata": {},
     "output_type": "execute_result"
    }
   ],
   "source": [
    "web_url_match = pattern_5.findall(scenario_4)\n",
    "web_url_match"
   ]
  },
  {
   "cell_type": "markdown",
   "id": "4d5ccbad",
   "metadata": {},
   "source": [
    "### 2. Redaction Tasks"
   ]
  },
  {
   "cell_type": "code",
   "execution_count": 36,
   "id": "6ecf3b11",
   "metadata": {},
   "outputs": [
    {
     "name": "stdout",
     "output_type": "stream",
     "text": [
      "*The customer support team at Global Banking Inc. compiled a list of queries received via email \n",
      "and web submissions: \n",
      "• Email: [email protected] \n",
      "• Email: [email protected] \n",
      "• Website: [Website Redacted] \n",
      "• Website: [Website Redacted] \n",
      "To improve support quality, management wants to analyze the communication channels and redact \n",
      "sensitive information before sharing the data with external partners. *\n"
     ]
    }
   ],
   "source": [
    "email_redaction = re.sub(pattern_4, \"[email protected]\", scenario_4)\n",
    "new_scenario_4 = re.sub(pattern_5, \"[Website Redacted]\", email_redaction)\n",
    "print(new_scenario_4)"
   ]
  },
  {
   "cell_type": "markdown",
   "id": "b7a4f79f",
   "metadata": {},
   "source": [
    "### 3. Count Analysis"
   ]
  },
  {
   "cell_type": "code",
   "execution_count": 37,
   "id": "89a9213e",
   "metadata": {},
   "outputs": [
    {
     "name": "stdout",
     "output_type": "stream",
     "text": [
      "Total number of email addresses extracted: 2\n",
      "Total number of URLs extracted: 2\n"
     ]
    }
   ],
   "source": [
    "print(\"Total number of email addresses extracted:\", len(email_address_match))\n",
    "print(\"Total number of URLs extracted:\", len(web_url_match))"
   ]
  },
  {
   "cell_type": "markdown",
   "id": "9e6a8781",
   "metadata": {},
   "source": [
    " "
   ]
  },
  {
   "cell_type": "markdown",
   "id": "6cb0b42f",
   "metadata": {},
   "source": [
    "## Scenario 5: Blame AI for your grueling Job Interview "
   ]
  },
  {
   "cell_type": "code",
   "execution_count": 38,
   "id": "cdfc43e9",
   "metadata": {},
   "outputs": [],
   "source": [
    "scenario_5 = \"\"\"Job interviews are laden with opportunities for humiliation. Who wants to describe their greatest \n",
    "weakness to a panel of peers? Or be made to feel like a quiz show contestant with brainteasers like \n",
    "“how many golf balls can you fit in a Boeing 747?”. Unfortunately for job seekers, the rigmarole \n",
    "is getting increasingly out of hand.  \n",
    "Demands from hiring committees in the tech sector are piling up. That means more interviews but \n",
    "also more technical tests. Alongside coding evaluations come requests for essays, lengthy take\n",
    "home assignments and even days spent working with existing teams. One friend in the Bay Area \n",
    "made it through multiple interviews rounds only to be presented with a final challenge to \n",
    "“entertain” the company’s leadership. There were no other instructions. She didn’t get the job.  \n",
    "Recruiters will say that this is not being done to make life difficult for job seekers but because it \n",
    "is growing harder to find the right candidates. The blame, they say, lies with job seekers \n",
    "themselves. Online postings make speculative applications easy to fire off. In the UK, the Institute \n",
    "of Student Employers reported receiving a record 1.2mn applications for 17,000 graduate \n",
    "vacancies this year. Human resources software maker Workday reports that the number of global \n",
    "job applications is growing four times faster than job openings.  \n",
    "This surplus includes those from candidates who are logging into AI chatbot ChatGPT to tailor \n",
    "their application with skills they may not possess. Some even try to trick recruiting software by \n",
    "writing in white text — listing requirements they lack in ways that will be invisible to the human \n",
    "eye but picked up by screening software.  \n",
    "From an employer’s point of view, therefore, adding new hoops for candidates to jump through \n",
    "makes sense. AI-assisted applications can mask poor candidates whose failings are revealed in \n",
    "multiple interviews. And the likeable smooth talker who sails through in-person meetings may \n",
    "come undone by on-site tests or work trials.  \n",
    "At some companies it is not enough to be good at your job, either. You need to show commitment \n",
    "to the company ethos. Amazon is known for assessing candidates on its 16 leadership principles. \n",
    "Fail to prove your customer obsession or ability to think big and you’ll find yourself back on the \n",
    "job market. The problem is that adding more interviews and tests exhaust candidates and \n",
    "interviewers and take everyone’s time away from the real work. In even more galling news, they \n",
    "may not even be productive. In 2016, Google declared that four interviews were enough to predict \n",
    "whether someone should be hired. According to the company, anything more than that had \n",
    "diminishing returns.   \n",
    "Still, this rule does not count the barriers put in place prior to interviews. Young job seekers \n",
    "sometimes complain that their parents still believe it’s possible to put on a smart suit and hand a \n",
    "resume to the front desk when looking for work. In reality, the standard process already includes \n",
    "an online application, resume screening and online assessment before on-site meetings take place. \n",
    "Application tracking software like Oracle’s Taleo are used to filter out candidates before they get \n",
    "a chance to interact with anyone at a company. Unsuccessful applicants can be ghosted.  \n",
    "As the process expands, so does the time it takes to secure a job. Research from US human \n",
    "resources adviser Josh Bersin put the average at 45 days. In fields like tech, it can be far longer. \n",
    "Software engineer Rohit Verma has blogged about his experience securing roles in large US tech \n",
    "companies. At Meta, he writes that it took about four months from referral to job offer.   \n",
    "This would be more palatable if it wasn’t for the tech sector’s newfound love of mass lay-offs. \n",
    "After engaging in a hiring spree during the pandemic, the sector cut its workforce by an estimated \n",
    "264,000 last year, according to crowdsourced site Layoffs.fyi. So far this year companies including \n",
    "TikTok and Snap have cut over 149,000 jobs. That means some employees who engaged in these \n",
    "intensive interview processes are now out of a job. Where tech leads, other sectors tend to follow. \n",
    "Expect the hiring process to grow more excruciating in your own line of work soon enough.  \n",
    "The good news is that there is always an exception. Sometimes, landing a job can be as simple as \n",
    "sending a tweet. In 2019, a 28-year-old Brit was hired to lead Tesla’s social media after he posted \n",
    "a picture of a giant ram with the caption: “Look at this absolute unit”. Still, taking Elon Musk’s \n",
    "fancy proved no more foolproof than any other hiring concept. Within a year, the social media \n",
    "manager had left the role. \n",
    "elaine.moore@ft.com  \n",
    "Copyright The Financial Times Limited 2024. All rights reserved.\"\"\""
   ]
  },
  {
   "cell_type": "markdown",
   "id": "b87d46fb",
   "metadata": {},
   "source": [
    "### 1. Text Search and Matching"
   ]
  },
  {
   "cell_type": "markdown",
   "id": "dad37e3d",
   "metadata": {},
   "source": [
    "#### a. Finding Words"
   ]
  },
  {
   "cell_type": "code",
   "execution_count": 39,
   "id": "063439a5",
   "metadata": {},
   "outputs": [],
   "source": [
    "pattern_5a = re.compile(\"job\", flags=re.I)"
   ]
  },
  {
   "cell_type": "code",
   "execution_count": 40,
   "id": "00cc41f9",
   "metadata": {},
   "outputs": [
    {
     "name": "stdout",
     "output_type": "stream",
     "text": [
      "['Job', 'job', 'job', 'job', 'job', 'job', 'job', 'job', 'job', 'job', 'job', 'job', 'job', 'job', 'job']\n"
     ]
    }
   ],
   "source": [
    "word_match = pattern_5a.findall(scenario_5)\n",
    "print(word_match)"
   ]
  },
  {
   "cell_type": "markdown",
   "id": "52410b0b",
   "metadata": {},
   "source": [
    "#### b. Locating Sentences with \"AI\""
   ]
  },
  {
   "cell_type": "code",
   "execution_count": 41,
   "id": "537077df",
   "metadata": {},
   "outputs": [],
   "source": [
    "# Split text into sentences using periods as delimiters\n",
    "sentences = re.split(r'(?<!\\d)\\.\\s+', scenario_5)"
   ]
  },
  {
   "cell_type": "code",
   "execution_count": 42,
   "id": "b2da603c",
   "metadata": {},
   "outputs": [
    {
     "name": "stdout",
     "output_type": "stream",
     "text": [
      "Sentences containing 'AI':\n",
      "\n",
      " - This surplus includes those from candidates who are logging into AI chatbot ChatGPT to tailor \n",
      "their application with skills they may not possess\n",
      "\n",
      " - AI-assisted applications can mask poor candidates whose failings are revealed in \n",
      "multiple interviews\n"
     ]
    }
   ],
   "source": [
    "# Find and print sentences containing the word \"AI\"\n",
    "matching_sentences = [sentence for sentence in sentences if re.search(r'\\bAI\\b', sentence)]\n",
    "\n",
    "print(\"Sentences containing 'AI':\")\n",
    "for sentence in matching_sentences:\n",
    "    print(f\"\\n - {sentence.strip()}\")"
   ]
  },
  {
   "cell_type": "markdown",
   "id": "98f0f216",
   "metadata": {},
   "source": [
    "#### c. Validating Email:"
   ]
  },
  {
   "cell_type": "code",
   "execution_count": 43,
   "id": "871a8b92",
   "metadata": {},
   "outputs": [
    {
     "name": "stdout",
     "output_type": "stream",
     "text": [
      "None\n"
     ]
    }
   ],
   "source": [
    "# Using regex patterns for emails in Scenario 4\n",
    "\n",
    "email_match = re.match(pattern_4, scenario_5)\n",
    "print(email_match)"
   ]
  },
  {
   "cell_type": "markdown",
   "id": "cf93aa90",
   "metadata": {},
   "source": [
    " "
   ]
  },
  {
   "cell_type": "markdown",
   "id": "28ed3a30",
   "metadata": {},
   "source": [
    "### 2. Data Sanitization "
   ]
  },
  {
   "cell_type": "markdown",
   "id": "4ae6931c",
   "metadata": {},
   "source": [
    "#### a. Removing Numbers"
   ]
  },
  {
   "cell_type": "code",
   "execution_count": 44,
   "id": "052edc08",
   "metadata": {},
   "outputs": [],
   "source": [
    "pattern_5b = re.compile(\"(\\d+)\")"
   ]
  },
  {
   "cell_type": "code",
   "execution_count": 45,
   "id": "f275f28c",
   "metadata": {
    "scrolled": true
   },
   "outputs": [
    {
     "data": {
      "text/plain": [
       "'Job interviews are laden with opportunities for humiliation. Who wants to describe their greatest \\nweakness to a panel of peers? Or be made to feel like a quiz show contestant with brainteasers like \\n“how many golf balls can you fit in a Boeing [NUMBER]?”. Unfortunately for job seekers, the rigmarole \\nis getting increasingly out of hand.  \\nDemands from hiring committees in the tech sector are piling up. That means more interviews but \\nalso more technical tests. Alongside coding evaluations come requests for essays, lengthy take\\nhome assignments and even days spent working with existing teams. One friend in the Bay Area \\nmade it through multiple interviews rounds only to be presented with a final challenge to \\n“entertain” the company’s leadership. There were no other instructions. She didn’t get the job.  \\nRecruiters will say that this is not being done to make life difficult for job seekers but because it \\nis growing harder to find the right candidates. The blame, they say, lies with job seekers \\nthemselves. Online postings make speculative applications easy to fire off. In the UK, the Institute \\nof Student Employers reported receiving a record [NUMBER].[NUMBER]mn applications for [NUMBER],[NUMBER] graduate \\nvacancies this year. Human resources software maker Workday reports that the number of global \\njob applications is growing four times faster than job openings.  \\nThis surplus includes those from candidates who are logging into AI chatbot ChatGPT to tailor \\ntheir application with skills they may not possess. Some even try to trick recruiting software by \\nwriting in white text — listing requirements they lack in ways that will be invisible to the human \\neye but picked up by screening software.  \\nFrom an employer’s point of view, therefore, adding new hoops for candidates to jump through \\nmakes sense. AI-assisted applications can mask poor candidates whose failings are revealed in \\nmultiple interviews. And the likeable smooth talker who sails through in-person meetings may \\ncome undone by on-site tests or work trials.  \\nAt some companies it is not enough to be good at your job, either. You need to show commitment \\nto the company ethos. Amazon is known for assessing candidates on its [NUMBER] leadership principles. \\nFail to prove your customer obsession or ability to think big and you’ll find yourself back on the \\njob market. The problem is that adding more interviews and tests exhaust candidates and \\ninterviewers and take everyone’s time away from the real work. In even more galling news, they \\nmay not even be productive. In [NUMBER], Google declared that four interviews were enough to predict \\nwhether someone should be hired. According to the company, anything more than that had \\ndiminishing returns.   \\nStill, this rule does not count the barriers put in place prior to interviews. Young job seekers \\nsometimes complain that their parents still believe it’s possible to put on a smart suit and hand a \\nresume to the front desk when looking for work. In reality, the standard process already includes \\nan online application, resume screening and online assessment before on-site meetings take place. \\nApplication tracking software like Oracle’s Taleo are used to filter out candidates before they get \\na chance to interact with anyone at a company. Unsuccessful applicants can be ghosted.  \\nAs the process expands, so does the time it takes to secure a job. Research from US human \\nresources adviser Josh Bersin put the average at [NUMBER] days. In fields like tech, it can be far longer. \\nSoftware engineer Rohit Verma has blogged about his experience securing roles in large US tech \\ncompanies. At Meta, he writes that it took about four months from referral to job offer.   \\nThis would be more palatable if it wasn’t for the tech sector’s newfound love of mass lay-offs. \\nAfter engaging in a hiring spree during the pandemic, the sector cut its workforce by an estimated \\n[NUMBER],[NUMBER] last year, according to crowdsourced site Layoffs.fyi. So far this year companies including \\nTikTok and Snap have cut over [NUMBER],[NUMBER] jobs. That means some employees who engaged in these \\nintensive interview processes are now out of a job. Where tech leads, other sectors tend to follow. \\nExpect the hiring process to grow more excruciating in your own line of work soon enough.  \\nThe good news is that there is always an exception. Sometimes, landing a job can be as simple as \\nsending a tweet. In [NUMBER], a [NUMBER]-year-old Brit was hired to lead Tesla’s social media after he posted \\na picture of a giant ram with the caption: “Look at this absolute unit”. Still, taking Elon Musk’s \\nfancy proved no more foolproof than any other hiring concept. Within a year, the social media \\nmanager had left the role. \\nelaine.moore@ft.com  \\nCopyright The Financial Times Limited [NUMBER]. All rights reserved.'"
      ]
     },
     "execution_count": 45,
     "metadata": {},
     "output_type": "execute_result"
    }
   ],
   "source": [
    "numbers_match = pattern_5b.sub(\"[NUMBER]\", scenario_5)\n",
    "numbers_match"
   ]
  },
  {
   "cell_type": "markdown",
   "id": "a0c01ba7",
   "metadata": {},
   "source": [
    "#### b. Redacting Emails:"
   ]
  },
  {
   "cell_type": "code",
   "execution_count": 46,
   "id": "447b4d6b",
   "metadata": {},
   "outputs": [],
   "source": [
    "email_address_pattern = re.compile(\"[a-zA-Z0-9._%+-]+@[a-zA-Z0-9.-]+\\.[a-zA-Z]{2,}\")"
   ]
  },
  {
   "cell_type": "code",
   "execution_count": 47,
   "id": "a1c9afd2",
   "metadata": {},
   "outputs": [
    {
     "data": {
      "text/plain": [
       "'Job interviews are laden with opportunities for humiliation. Who wants to describe their greatest \\nweakness to a panel of peers? Or be made to feel like a quiz show contestant with brainteasers like \\n“how many golf balls can you fit in a Boeing [NUMBER]?”. Unfortunately for job seekers, the rigmarole \\nis getting increasingly out of hand.  \\nDemands from hiring committees in the tech sector are piling up. That means more interviews but \\nalso more technical tests. Alongside coding evaluations come requests for essays, lengthy take\\nhome assignments and even days spent working with existing teams. One friend in the Bay Area \\nmade it through multiple interviews rounds only to be presented with a final challenge to \\n“entertain” the company’s leadership. There were no other instructions. She didn’t get the job.  \\nRecruiters will say that this is not being done to make life difficult for job seekers but because it \\nis growing harder to find the right candidates. The blame, they say, lies with job seekers \\nthemselves. Online postings make speculative applications easy to fire off. In the UK, the Institute \\nof Student Employers reported receiving a record [NUMBER].[NUMBER]mn applications for [NUMBER],[NUMBER] graduate \\nvacancies this year. Human resources software maker Workday reports that the number of global \\njob applications is growing four times faster than job openings.  \\nThis surplus includes those from candidates who are logging into AI chatbot ChatGPT to tailor \\ntheir application with skills they may not possess. Some even try to trick recruiting software by \\nwriting in white text — listing requirements they lack in ways that will be invisible to the human \\neye but picked up by screening software.  \\nFrom an employer’s point of view, therefore, adding new hoops for candidates to jump through \\nmakes sense. AI-assisted applications can mask poor candidates whose failings are revealed in \\nmultiple interviews. And the likeable smooth talker who sails through in-person meetings may \\ncome undone by on-site tests or work trials.  \\nAt some companies it is not enough to be good at your job, either. You need to show commitment \\nto the company ethos. Amazon is known for assessing candidates on its [NUMBER] leadership principles. \\nFail to prove your customer obsession or ability to think big and you’ll find yourself back on the \\njob market. The problem is that adding more interviews and tests exhaust candidates and \\ninterviewers and take everyone’s time away from the real work. In even more galling news, they \\nmay not even be productive. In [NUMBER], Google declared that four interviews were enough to predict \\nwhether someone should be hired. According to the company, anything more than that had \\ndiminishing returns.   \\nStill, this rule does not count the barriers put in place prior to interviews. Young job seekers \\nsometimes complain that their parents still believe it’s possible to put on a smart suit and hand a \\nresume to the front desk when looking for work. In reality, the standard process already includes \\nan online application, resume screening and online assessment before on-site meetings take place. \\nApplication tracking software like Oracle’s Taleo are used to filter out candidates before they get \\na chance to interact with anyone at a company. Unsuccessful applicants can be ghosted.  \\nAs the process expands, so does the time it takes to secure a job. Research from US human \\nresources adviser Josh Bersin put the average at [NUMBER] days. In fields like tech, it can be far longer. \\nSoftware engineer Rohit Verma has blogged about his experience securing roles in large US tech \\ncompanies. At Meta, he writes that it took about four months from referral to job offer.   \\nThis would be more palatable if it wasn’t for the tech sector’s newfound love of mass lay-offs. \\nAfter engaging in a hiring spree during the pandemic, the sector cut its workforce by an estimated \\n[NUMBER],[NUMBER] last year, according to crowdsourced site Layoffs.fyi. So far this year companies including \\nTikTok and Snap have cut over [NUMBER],[NUMBER] jobs. That means some employees who engaged in these \\nintensive interview processes are now out of a job. Where tech leads, other sectors tend to follow. \\nExpect the hiring process to grow more excruciating in your own line of work soon enough.  \\nThe good news is that there is always an exception. Sometimes, landing a job can be as simple as \\nsending a tweet. In [NUMBER], a [NUMBER]-year-old Brit was hired to lead Tesla’s social media after he posted \\na picture of a giant ram with the caption: “Look at this absolute unit”. Still, taking Elon Musk’s \\nfancy proved no more foolproof than any other hiring concept. Within a year, the social media \\nmanager had left the role. \\n[EMAIL REDACTED]  \\nCopyright The Financial Times Limited [NUMBER]. All rights reserved.'"
      ]
     },
     "execution_count": 47,
     "metadata": {},
     "output_type": "execute_result"
    }
   ],
   "source": [
    "email_address_match_02 = email_address_pattern.sub(\"[EMAIL REDACTED]\", numbers_match)\n",
    "email_address_match_02"
   ]
  },
  {
   "cell_type": "markdown",
   "id": "41a4dbd4",
   "metadata": {},
   "source": [
    "#### c. Removing Special Characters"
   ]
  },
  {
   "cell_type": "code",
   "execution_count": 48,
   "id": "17038da1",
   "metadata": {},
   "outputs": [
    {
     "data": {
      "text/plain": [
       "'Job interviews are laden with opportunities for humiliation  Who wants to describe their greatest \\nweakness to a panel of peers  Or be made to feel like a quiz show contestant with brainteasers like \\n“how many golf balls can you fit in a Boeing [NUMBER] ”  Unfortunately for job seekers  the rigmarole \\nis getting increasingly out of hand   \\nDemands from hiring committees in the tech sector are piling up  That means more interviews but \\nalso more technical tests  Alongside coding evaluations come requests for essays  lengthy take\\nhome assignments and even days spent working with existing teams  One friend in the Bay Area \\nmade it through multiple interviews rounds only to be presented with a final challenge to \\n“entertain” the company’s leadership  There were no other instructions  She didn’t get the job   \\nRecruiters will say that this is not being done to make life difficult for job seekers but because it \\nis growing harder to find the right candidates  The blame  they say  lies with job seekers \\nthemselves  Online postings make speculative applications easy to fire off  In the UK  the Institute \\nof Student Employers reported receiving a record [NUMBER] [NUMBER]mn applications for [NUMBER] [NUMBER] graduate \\nvacancies this year  Human resources software maker Workday reports that the number of global \\njob applications is growing four times faster than job openings   \\nThis surplus includes those from candidates who are logging into AI chatbot ChatGPT to tailor \\ntheir application with skills they may not possess  Some even try to trick recruiting software by \\nwriting in white text — listing requirements they lack in ways that will be invisible to the human \\neye but picked up by screening software   \\nFrom an employer’s point of view  therefore  adding new hoops for candidates to jump through \\nmakes sense  AI assisted applications can mask poor candidates whose failings are revealed in \\nmultiple interviews  And the likeable smooth talker who sails through in person meetings may \\ncome undone by on site tests or work trials   \\nAt some companies it is not enough to be good at your job  either  You need to show commitment \\nto the company ethos  Amazon is known for assessing candidates on its [NUMBER] leadership principles  \\nFail to prove your customer obsession or ability to think big and you’ll find yourself back on the \\njob market  The problem is that adding more interviews and tests exhaust candidates and \\ninterviewers and take everyone’s time away from the real work  In even more galling news  they \\nmay not even be productive  In [NUMBER]  Google declared that four interviews were enough to predict \\nwhether someone should be hired  According to the company  anything more than that had \\ndiminishing returns    \\nStill  this rule does not count the barriers put in place prior to interviews  Young job seekers \\nsometimes complain that their parents still believe it’s possible to put on a smart suit and hand a \\nresume to the front desk when looking for work  In reality  the standard process already includes \\nan online application  resume screening and online assessment before on site meetings take place  \\nApplication tracking software like Oracle’s Taleo are used to filter out candidates before they get \\na chance to interact with anyone at a company  Unsuccessful applicants can be ghosted   \\nAs the process expands  so does the time it takes to secure a job  Research from US human \\nresources adviser Josh Bersin put the average at [NUMBER] days  In fields like tech  it can be far longer  \\nSoftware engineer Rohit Verma has blogged about his experience securing roles in large US tech \\ncompanies  At Meta  he writes that it took about four months from referral to job offer    \\nThis would be more palatable if it wasn’t for the tech sector’s newfound love of mass lay offs  \\nAfter engaging in a hiring spree during the pandemic  the sector cut its workforce by an estimated \\n[NUMBER] [NUMBER] last year  according to crowdsourced site Layoffs fyi  So far this year companies including \\nTikTok and Snap have cut over [NUMBER] [NUMBER] jobs  That means some employees who engaged in these \\nintensive interview processes are now out of a job  Where tech leads  other sectors tend to follow  \\nExpect the hiring process to grow more excruciating in your own line of work soon enough   \\nThe good news is that there is always an exception  Sometimes  landing a job can be as simple as \\nsending a tweet  In [NUMBER]  a [NUMBER] year old Brit was hired to lead Tesla’s social media after he posted \\na picture of a giant ram with the caption  “Look at this absolute unit”  Still  taking Elon Musk’s \\nfancy proved no more foolproof than any other hiring concept  Within a year  the social media \\nmanager had left the role  \\n[EMAIL REDACTED]  \\nCopyright The Financial Times Limited [NUMBER]  All rights reserved '"
      ]
     },
     "execution_count": 48,
     "metadata": {},
     "output_type": "execute_result"
    }
   ],
   "source": [
    "remove_special_characters = re.sub('[.,!?\\'\":;()\\-]', \" \", email_address_match_02)\n",
    "remove_special_characters"
   ]
  },
  {
   "cell_type": "markdown",
   "id": "b236a026",
   "metadata": {},
   "source": [
    "### 3. Text Extraction and Tokenization"
   ]
  },
  {
   "cell_type": "markdown",
   "id": "9085cbf0",
   "metadata": {},
   "source": [
    "#### a. Splitting Text by Sentences"
   ]
  },
  {
   "cell_type": "code",
   "execution_count": 49,
   "id": "ae13c40a",
   "metadata": {},
   "outputs": [
    {
     "name": "stdout",
     "output_type": "stream",
     "text": [
      "Total number of sentences in text: 49\n"
     ]
    }
   ],
   "source": [
    "print(\"Total number of sentences in text:\", len(sentences))"
   ]
  },
  {
   "cell_type": "markdown",
   "id": "8a9469ab",
   "metadata": {},
   "source": [
    "#### b. Extracting Dates"
   ]
  },
  {
   "cell_type": "code",
   "execution_count": 50,
   "id": "71088f0a",
   "metadata": {},
   "outputs": [
    {
     "name": "stdout",
     "output_type": "stream",
     "text": [
      "All year refernces in text:\n",
      "\n",
      " ['2016', '2019', '2024']\n"
     ]
    }
   ],
   "source": [
    "years_match_02 = re.findall(pattern_3, scenario_5)\n",
    "\n",
    "print(\"All year refernces in text:\")\n",
    "print(\"\\n\",years_match_02)"
   ]
  },
  {
   "cell_type": "markdown",
   "id": "9586feee",
   "metadata": {},
   "source": [
    "#### c. Identify Capitalized Words"
   ]
  },
  {
   "cell_type": "code",
   "execution_count": 51,
   "id": "3b084464",
   "metadata": {},
   "outputs": [],
   "source": [
    "capitalized_words_pattern = r'\\b[A-Z]+\\b'"
   ]
  },
  {
   "cell_type": "code",
   "execution_count": 52,
   "id": "8d55d0c6",
   "metadata": {},
   "outputs": [
    {
     "name": "stdout",
     "output_type": "stream",
     "text": [
      "List of all capitalized words in text: \n",
      "\n",
      " ['UK', 'AI', 'AI', 'US', 'US']\n"
     ]
    }
   ],
   "source": [
    "capitalized_words_match = re.findall(capitalized_words_pattern, scenario_5)\n",
    "print(\"List of all capitalized words in text: \")\n",
    "print(\"\\n\",capitalized_words_match)"
   ]
  },
  {
   "cell_type": "markdown",
   "id": "839f8317",
   "metadata": {},
   "source": [
    "### 4. Pattern Compilation for Reusability "
   ]
  },
  {
   "cell_type": "markdown",
   "id": "4a654c40",
   "metadata": {},
   "source": [
    "#### a. Define Patterns for Key Concepts:"
   ]
  },
  {
   "cell_type": "markdown",
   "id": "3cea42a9",
   "metadata": {},
   "source": [
    "##### • Extracting email addresses"
   ]
  },
  {
   "cell_type": "code",
   "execution_count": 53,
   "id": "ecdaa0ba",
   "metadata": {},
   "outputs": [],
   "source": [
    "email_pattern = re.compile(r'[a-zA-Z0-9._%+-]+@[a-zA-Z0-9.-]+\\.[a-zA-Z]{2,}')"
   ]
  },
  {
   "cell_type": "code",
   "execution_count": 54,
   "id": "a0b3677b",
   "metadata": {
    "scrolled": true
   },
   "outputs": [
    {
     "data": {
      "text/plain": [
       "['elaine.moore@ft.com']"
      ]
     },
     "execution_count": 54,
     "metadata": {},
     "output_type": "execute_result"
    }
   ],
   "source": [
    "email_compile_match = email_pattern.findall(scenario_5)\n",
    "email_compile_match"
   ]
  },
  {
   "cell_type": "markdown",
   "id": "771aecc1",
   "metadata": {},
   "source": [
    "##### • Identifying sentences with words like \"AI\" or \"job\""
   ]
  },
  {
   "cell_type": "code",
   "execution_count": 55,
   "id": "a811c9a6",
   "metadata": {},
   "outputs": [
    {
     "name": "stdout",
     "output_type": "stream",
     "text": [
      "Job interviews are laden with opportunities for humiliation.\n",
      "Unfortunately for job seekers, the rigmarole \n",
      "is getting increasingly out of hand.\n",
      "She didn’t get the job.\n",
      " \n",
      "Recruiters will say that this is not being done to make life difficult for job seekers but because it \n",
      "is growing harder to find the right candidates.\n",
      "The blame, they say, lies with job seekers \n",
      "themselves.\n",
      "Human resources software maker Workday reports that the number of global \n",
      "job applications is growing four times faster than job openings.\n",
      " \n",
      "This surplus includes those from candidates who are logging into AI chatbot ChatGPT to tailor \n",
      "their application with skills they may not possess.\n",
      "AI-assisted applications can mask poor candidates whose failings are revealed in \n",
      "multiple interviews.\n",
      " \n",
      "At some companies it is not enough to be good at your job, either.\n",
      "\n",
      "Fail to prove your customer obsession or ability to think big and you’ll find yourself back on the \n",
      "job market.\n",
      "Young job seekers \n",
      "sometimes complain that their parents still believe it’s possible to put on a smart suit and hand a \n",
      "resume to the front desk when looking for work.\n",
      " \n",
      "As the process expands, so does the time it takes to secure a job.\n",
      "At Meta, he writes that it took about four months from referral to job offer.\n",
      "That means some employees who engaged in these \n",
      "intensive interview processes are now out of a job.\n",
      "Sometimes, landing a job can be as simple as \n",
      "sending a tweet.\n"
     ]
    }
   ],
   "source": [
    "# Define the reusable pattern using re.compile\n",
    "ai_jobs_pattern = re.compile(r'\\b(?:AI|job)\\b', re.IGNORECASE)\n",
    "\n",
    "# Split text into sentences\n",
    "sentences = re.split(r'(?<!\\w\\.\\w.)(?<![A-Z][a-z]\\.)(?<=\\.|\\?)\\s', scenario_5)\n",
    "\n",
    "# Find sentences containing \"AI\" or \"job\"\n",
    "matching_sentences = [sentence for sentence in sentences if ai_jobs_pattern.search(sentence)]\n",
    "\n",
    "# Print matching sentences\n",
    "for sentence in matching_sentences:\n",
    "    print(sentence)"
   ]
  },
  {
   "cell_type": "markdown",
   "id": "026a3d8b",
   "metadata": {},
   "source": [
    "##### • Validating transaction-like formats"
   ]
  },
  {
   "cell_type": "code",
   "execution_count": 56,
   "id": "631b9fbd",
   "metadata": {},
   "outputs": [],
   "source": [
    "validating_formats_patterns = re.compile('[A-Z]\\d+')"
   ]
  },
  {
   "cell_type": "code",
   "execution_count": 58,
   "id": "2fc1c625",
   "metadata": {},
   "outputs": [
    {
     "name": "stdout",
     "output_type": "stream",
     "text": [
      "[]\n"
     ]
    }
   ],
   "source": [
    "validating_formats_match = validating_formats_patterns.findall(scenario_5)\n",
    "print(validating_formats_match)"
   ]
  },
  {
   "cell_type": "markdown",
   "id": "ad7277e6",
   "metadata": {},
   "source": [
    "### 5. Text Statistics and Insights "
   ]
  },
  {
   "cell_type": "markdown",
   "id": "4c0165b3",
   "metadata": {},
   "source": [
    "#### a. Count Instances"
   ]
  },
  {
   "cell_type": "code",
   "execution_count": 59,
   "id": "00cbaf70",
   "metadata": {},
   "outputs": [
    {
     "name": "stdout",
     "output_type": "stream",
     "text": [
      "The word 'interview' appears 9 times in the write-up.\n"
     ]
    }
   ],
   "source": [
    "keyword_match_01 = re.findall(\"interview\", scenario_5, flags=re.I)\n",
    "print(\"The word 'interview' appears\", len(keyword_match_01), \"times in the write-up.\")"
   ]
  },
  {
   "cell_type": "code",
   "execution_count": 60,
   "id": "cdeca727",
   "metadata": {},
   "outputs": [
    {
     "name": "stdout",
     "output_type": "stream",
     "text": [
      "The word 'application' appears 7 times in the write-up.\n"
     ]
    }
   ],
   "source": [
    "keyword_match_02 = re.findall(\"application\", scenario_5, flags=re.I)\n",
    "print(\"The word 'application' appears\", len(keyword_match_02), \"times in the write-up.\")"
   ]
  },
  {
   "cell_type": "markdown",
   "id": "9b3f6879",
   "metadata": {},
   "source": [
    "#### b. Word Length Analysis"
   ]
  },
  {
   "cell_type": "code",
   "execution_count": 61,
   "id": "c5bd53ad",
   "metadata": {},
   "outputs": [
    {
     "name": "stdout",
     "output_type": "stream",
     "text": [
      "List of  all words of length greater than 8 characters:\n",
      "\n",
      " ['interviews', 'opportunities', 'humiliation', 'contestant', 'brainteasers', 'Unfortunately', 'rigmarole', 'increasingly', 'committees', 'interviews', 'technical', 'Alongside', 'evaluations', 'assignments', 'interviews', 'presented', 'challenge', 'entertain', 'leadership', 'instructions', 'Recruiters', 'difficult', 'candidates', 'themselves', 'speculative', 'applications', 'Institute', 'Employers', 'receiving', 'applications', 'vacancies', 'resources', 'applications', 'candidates', 'application', 'recruiting', 'requirements', 'invisible', 'screening', 'therefore', 'candidates', 'applications', 'candidates', 'interviews', 'companies', 'commitment', 'assessing', 'candidates', 'leadership', 'principles', 'obsession', 'interviews', 'candidates', 'interviewers', 'productive', 'interviews', 'According', 'diminishing', 'interviews', 'sometimes', 'application', 'screening', 'assessment', 'Application', 'candidates', 'Unsuccessful', 'applicants', 'resources', 'experience', 'companies', 'palatable', 'workforce', 'estimated', 'according', 'crowdsourced', 'companies', 'including', 'employees', 'intensive', 'interview', 'processes', 'excruciating', 'exception', 'Sometimes', 'foolproof', 'Copyright', 'Financial']\n"
     ]
    }
   ],
   "source": [
    "word_len_match = re.findall(r'\\b\\w{9,}\\b', scenario_5, flags=re.I)\n",
    "\n",
    "print('List of  all words of length greater than 8 characters:')\n",
    "print('\\n', word_len_match)"
   ]
  },
  {
   "cell_type": "markdown",
   "id": "6eff28a1",
   "metadata": {},
   "source": [
    "#### c. Extract Quoted Texts"
   ]
  },
  {
   "cell_type": "code",
   "execution_count": 62,
   "id": "735d5b71",
   "metadata": {},
   "outputs": [],
   "source": [
    "quoted_texts_pattern = re.compile(r'“([^”]+)”', flags=re.I)"
   ]
  },
  {
   "cell_type": "code",
   "execution_count": 63,
   "id": "008f0413",
   "metadata": {},
   "outputs": [
    {
     "name": "stdout",
     "output_type": "stream",
     "text": [
      "['how many golf balls can you fit in a Boeing 747?', 'entertain', 'Look at this absolute unit']\n"
     ]
    }
   ],
   "source": [
    "quoted_phrases = quoted_texts_pattern.findall(scenario_5)\n",
    "\n",
    "# Print the quoted phrases\n",
    "print(quoted_phrases)"
   ]
  },
  {
   "cell_type": "markdown",
   "id": "8d899f20",
   "metadata": {},
   "source": [
    " "
   ]
  }
 ],
 "metadata": {
  "kernelspec": {
   "display_name": "Python 3 (ipykernel)",
   "language": "python",
   "name": "python3"
  },
  "language_info": {
   "codemirror_mode": {
    "name": "ipython",
    "version": 3
   },
   "file_extension": ".py",
   "mimetype": "text/x-python",
   "name": "python",
   "nbconvert_exporter": "python",
   "pygments_lexer": "ipython3",
   "version": "3.11.4"
  }
 },
 "nbformat": 4,
 "nbformat_minor": 5
}
